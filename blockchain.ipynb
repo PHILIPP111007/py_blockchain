{
 "cells": [
  {
   "cell_type": "code",
   "execution_count": 38,
   "metadata": {},
   "outputs": [],
   "source": [
    "import time\n",
    "import json\n",
    "import hashlib\n",
    "from pprint import pprint"
   ]
  },
  {
   "cell_type": "code",
   "execution_count": 39,
   "metadata": {},
   "outputs": [],
   "source": [
    "def get_current_time() -> float:\n",
    "    return time.time()\n",
    "\n",
    "\n",
    "def compute_hash(b: bytes) -> str:\n",
    "    return hashlib.sha256(string=b, usedforsecurity=True).hexdigest()"
   ]
  },
  {
   "cell_type": "code",
   "execution_count": 40,
   "metadata": {},
   "outputs": [],
   "source": [
    "class Account:\n",
    "    def __init__(self, mnemonic: str, password: str):\n",
    "        self.public_key = compute_hash(f\"{mnemonic}{password}\".encode())\n",
    "\n",
    "\n",
    "class Transaction:\n",
    "    \"\"\"PHC - phils coin\"\"\"\n",
    "\n",
    "    def __init__(\n",
    "        self,\n",
    "        sender_password: str,\n",
    "        sender_public_key: str,\n",
    "        reciever_public_key: str,\n",
    "        PHC: float,\n",
    "        sender_PHC_total: float,\n",
    "        reciever_PHC_total: float,\n",
    "    ):\n",
    "        self.sender_public_key = sender_public_key\n",
    "        self.reciever_public_key = reciever_public_key\n",
    "        self.PHC = PHC\n",
    "        self.sender_PHC_total = sender_PHC_total\n",
    "        self.reciever_PHC_total = reciever_PHC_total\n",
    "        self.timestamp = get_current_time()\n",
    "\n",
    "        s = sender_public_key + reciever_public_key + str(self.timestamp) + sender_password\n",
    "        signed_hash = compute_hash(s.encode())\n",
    "        self.hash = signed_hash\n",
    "\n",
    "\n",
    "class Block:\n",
    "    def __init__(self, index: int, previous_hash: str):\n",
    "        self.index = index\n",
    "        self.previous_hash = previous_hash\n",
    "        self.transactions = []\n",
    "        self.accounts = []\n",
    "        self.timestamp = get_current_time()\n",
    "\n",
    "\n",
    "    def get_hash(self) -> str:\n",
    "        transactions = [t.__dict__ for t in self.transactions]\n",
    "        accounts = [a.__dict__ for a in self.accounts]\n",
    "\n",
    "        obj = self.__dict__.copy()\n",
    "        obj[\"transactions\"] = transactions\n",
    "        obj[\"accounts\"] = accounts\n",
    "\n",
    "        b: bytes = json.dumps(obj, sort_keys=True).encode()\n",
    "        return compute_hash(b)"
   ]
  },
  {
   "cell_type": "code",
   "execution_count": 65,
   "metadata": {},
   "outputs": [],
   "source": [
    "class Blockchain:\n",
    "    MAX_TRANSACTIONS_SIZE_IN_BLOCK = 10\n",
    "\n",
    "    def __init__(self, name: str):\n",
    "        self.name = name\n",
    "        self.chain = []\n",
    "        self._append_block(self._create_block(initial=True))\n",
    "\n",
    "    def __str__(self) -> str:\n",
    "        return f\"<Blockchain '{self.name}'>\"\n",
    "\n",
    "    @property\n",
    "    def current_block(self) -> Block:\n",
    "        return self.chain[-1]\n",
    "\n",
    "    @property\n",
    "    def blocks_count(self) -> int:\n",
    "        return len(self.chain)\n",
    "\n",
    "    def is_valid(self) -> tuple[bool, int]:\n",
    "        for i in range(1, self.blocks_count):\n",
    "            if self.chain[i - 1].get_hash() != self.chain[i].previous_hash:\n",
    "                return False, i\n",
    "        return True, -1\n",
    "\n",
    "    def _create_block(self, initial: bool) -> Block:\n",
    "        if initial:\n",
    "            index = 0\n",
    "            previous_hash = \"\"\n",
    "        else:\n",
    "            index = self.current_block.index + 1\n",
    "            previous_hash = self.current_block.get_hash()\n",
    "\n",
    "        return Block(\n",
    "            index=index,\n",
    "            previous_hash=previous_hash,\n",
    "        )\n",
    "\n",
    "    def _append_block(self, block: Block):\n",
    "        self.chain.append(block)\n",
    "\n",
    "    def _append_transaction(self, transaction: Transaction):\n",
    "        self.current_block.transactions.append(transaction)\n",
    "\n",
    "    def get_account_by_public_key(self, public_key: str) -> Account | None:\n",
    "        for block in self.chain:\n",
    "            for account in block.accounts:\n",
    "                if public_key == account.public_key:\n",
    "                    return account\n",
    "        return\n",
    "\n",
    "    def get_user_PHC_total(self, public_key: str) -> float:\n",
    "        for block in self.chain[::-1]:\n",
    "            for transaction in block.transactions[::-1]:\n",
    "                if transaction.sender_public_key == public_key:\n",
    "                    return transaction.sender_PHC_total\n",
    "                elif transaction.reciever_public_key == public_key:\n",
    "                    return transaction.reciever_PHC_total\n",
    "        return 0.0\n",
    "\n",
    "    def login(self, mnemonic: str, password: str) -> dict[str, str]:\n",
    "        account = Account(mnemonic=mnemonic, password=password)\n",
    "        if self.get_account_by_public_key(public_key=account.public_key):\n",
    "            return {\n",
    "                \"success\": \"Login.\",\n",
    "                \"public_key\": account.public_key,\n",
    "            }\n",
    "        return {\"error\": \"Please try again.\"}\n",
    "\n",
    "    def add_account(self, mnemonic: str, password: str) -> dict[str, str]:\n",
    "        new_account = Account(mnemonic=mnemonic, password=password)\n",
    "        if self.get_account_by_public_key(public_key=new_account.public_key):\n",
    "            return {\n",
    "                \"error\": \"Please use another mnemonic. You have a hash collision.\"\n",
    "            }\n",
    "        self.current_block.accounts.append(new_account)\n",
    "        return {\n",
    "            \"success\": \"Account has been created.\",\n",
    "            \"public_key\": new_account.public_key,\n",
    "        }\n",
    "\n",
    "    def add_transaction(\n",
    "        self,\n",
    "        sender_mnemonic: str,\n",
    "        sender_password: str,\n",
    "        reciever_public_key: str,\n",
    "        PHC: float,\n",
    "    ) -> dict[str, str] | Transaction:\n",
    "        PHC = float(PHC)\n",
    "\n",
    "        sender_public_key = self.login(\n",
    "            mnemonic=sender_mnemonic, password=sender_password\n",
    "        ).get(\"public_key\")\n",
    "        if sender_public_key is None:\n",
    "            return {\"error\": \"Can not login.\"}\n",
    "\n",
    "        reciever = self.get_account_by_public_key(public_key=reciever_public_key)\n",
    "        if not reciever:\n",
    "            return {\"error\": \"Can not find reciever account.\"}\n",
    "\n",
    "        sender_PHC_total = self.get_user_PHC_total(public_key=sender_public_key)\n",
    "        reciever_PHC_total = self.get_user_PHC_total(public_key=reciever.public_key)\n",
    "\n",
    "        if sender_PHC_total - PHC < 0:\n",
    "            return {\"error\": \"You do not have enough PHC.\"}\n",
    "\n",
    "        transaction = Transaction(\n",
    "            sender_password=sender_password,\n",
    "            sender_public_key=sender_public_key,\n",
    "            reciever_public_key=reciever_public_key,\n",
    "            PHC=PHC,\n",
    "            sender_PHC_total=sender_PHC_total - PHC,\n",
    "            reciever_PHC_total=reciever_PHC_total + PHC,\n",
    "        )\n",
    "\n",
    "        self._append_transaction(transaction=transaction)\n",
    "        if (\n",
    "            len(self.current_block.transactions)\n",
    "            >= Blockchain.MAX_TRANSACTIONS_SIZE_IN_BLOCK\n",
    "        ):\n",
    "            block = self._create_block(initial=False)\n",
    "            self._append_block(block=block)\n",
    "        return transaction"
   ]
  },
  {
   "cell_type": "markdown",
   "metadata": {},
   "source": [
    "### Initialize blockchain"
   ]
  },
  {
   "cell_type": "code",
   "execution_count": 61,
   "metadata": {},
   "outputs": [
    {
     "name": "stdout",
     "output_type": "stream",
     "text": [
      "<Blockchain 'Phils_blockchain'>\n",
      "\n",
      "{'chain': [<__main__.Block object at 0x1056b2ad0>], 'name': 'Phils_blockchain'}\n",
      "\n",
      "{'accounts': [],\n",
      " 'index': 0,\n",
      " 'previous_hash': '',\n",
      " 'timestamp': 1706981939.079885,\n",
      " 'transactions': []}\n"
     ]
    }
   ],
   "source": [
    "sender_mnemonic = \"mnemonic\"\n",
    "sender_password = \"password\"\n",
    "reciever_mnemonic = \"mnemonic1\"\n",
    "reciever_password = \"password\"\n",
    "\n",
    "blockchain = Blockchain(name=\"Phils_blockchain\")\n",
    "print(blockchain)\n",
    "print()\n",
    "\n",
    "pprint(vars(blockchain))\n",
    "print()\n",
    "\n",
    "pprint(vars(blockchain.chain[0]))"
   ]
  },
  {
   "cell_type": "markdown",
   "metadata": {},
   "source": [
    "### Create user"
   ]
  },
  {
   "cell_type": "code",
   "execution_count": 62,
   "metadata": {},
   "outputs": [
    {
     "name": "stdout",
     "output_type": "stream",
     "text": [
      "sender = {'success': 'Account has been created.', 'public_key': '20ed537f407342a57fa9de06f6fbbc194f16fac96977f9da0b4b8490cef35620'}\n",
      "\n",
      "sender_PHC_total = 0.0\n",
      "\n",
      "sender_error = {'error': 'Please use another mnemonic. You have a hash collision.'}\n",
      "\n",
      "reciever = {'success': 'Account has been created.', 'public_key': '605ead40cc9a6535e68f20990bd6f580f37ba203f9e42c3e3fa0005115f108b9'}\n"
     ]
    }
   ],
   "source": [
    "sender = blockchain.add_account(mnemonic=sender_mnemonic, password=sender_password)\n",
    "print(f\"{sender = }\\n\")\n",
    "\n",
    "# Get users total coins\n",
    "sender_public_key = sender.get(\"public_key\")\n",
    "sender_PHC_total = blockchain.get_user_PHC_total(public_key=sender_public_key)\n",
    "print(f\"{sender_PHC_total = }\\n\")\n",
    "\n",
    "# Try to create an account that have mnemonic and password equal user 1\n",
    "sender_error = blockchain.add_account(\n",
    "    mnemonic=sender_mnemonic, password=sender_password\n",
    ")\n",
    "print(f\"{sender_error = }\\n\")\n",
    "\n",
    "# Create second account\n",
    "reciever = blockchain.add_account(\n",
    "    mnemonic=reciever_mnemonic, password=reciever_password\n",
    ")\n",
    "print(f\"{reciever = }\")"
   ]
  },
  {
   "cell_type": "markdown",
   "metadata": {},
   "source": [
    "### Create our first transaction"
   ]
  },
  {
   "cell_type": "code",
   "execution_count": 63,
   "metadata": {},
   "outputs": [
    {
     "name": "stdout",
     "output_type": "stream",
     "text": [
      "{'PHC': 0.0,\n",
      " 'hash': '54498bfeb3e0fe2358bbe7b579c20db563b4f12d1574d582d2f782f0bfada3e5',\n",
      " 'reciever_PHC_total': 0.0,\n",
      " 'reciever_public_key': '605ead40cc9a6535e68f20990bd6f580f37ba203f9e42c3e3fa0005115f108b9',\n",
      " 'sender_PHC_total': 0.0,\n",
      " 'sender_public_key': '20ed537f407342a57fa9de06f6fbbc194f16fac96977f9da0b4b8490cef35620',\n",
      " 'timestamp': 1706981943.9103072}\n",
      "\n",
      "{'accounts': [<__main__.Account object at 0x1056b1150>,\n",
      "              <__main__.Account object at 0x105106080>],\n",
      " 'index': 0,\n",
      " 'previous_hash': '',\n",
      " 'timestamp': 1706981939.079885,\n",
      " 'transactions': [<__main__.Transaction object at 0x1056b2230>,\n",
      "                  <__main__.Transaction object at 0x104ef0af0>,\n",
      "                  <__main__.Transaction object at 0x104ef0700>,\n",
      "                  <__main__.Transaction object at 0x1056b25f0>,\n",
      "                  <__main__.Transaction object at 0x1056b2560>,\n",
      "                  <__main__.Transaction object at 0x1056b2680>,\n",
      "                  <__main__.Transaction object at 0x1056b26e0>,\n",
      "                  <__main__.Transaction object at 0x1056b3190>,\n",
      "                  <__main__.Transaction object at 0x1056b1690>,\n",
      "                  <__main__.Transaction object at 0x1056b2350>]}\n",
      "\n",
      "(True, -1)\n"
     ]
    }
   ],
   "source": [
    "reciever_public_key = reciever.get(\"public_key\")\n",
    "\n",
    "transaction = blockchain.add_transaction(\n",
    "    sender_mnemonic=sender_mnemonic,\n",
    "    sender_password=sender_password,\n",
    "    reciever_public_key=reciever_public_key,\n",
    "    PHC=0,\n",
    ")\n",
    "pprint(transaction.__dict__)\n",
    "print()\n",
    "\n",
    "for _ in range(100):\n",
    "    blockchain.add_transaction(\n",
    "        sender_mnemonic=sender_mnemonic,\n",
    "        sender_password=sender_password,\n",
    "        reciever_public_key=reciever_public_key,\n",
    "        PHC=0,\n",
    "    )\n",
    "\n",
    "pprint(blockchain.chain[0].__dict__)\n",
    "print()\n",
    "\n",
    "print(blockchain.is_valid())"
   ]
  },
  {
   "cell_type": "markdown",
   "metadata": {},
   "source": [
    "### Lets make changes in the chain"
   ]
  },
  {
   "cell_type": "code",
   "execution_count": 64,
   "metadata": {},
   "outputs": [
    {
     "name": "stdout",
     "output_type": "stream",
     "text": [
      "(False, 3)\n"
     ]
    }
   ],
   "source": [
    "error_block = blockchain.chain[-1]\n",
    "blockchain.chain[3] = error_block\n",
    "\n",
    "print(blockchain.is_valid())"
   ]
  }
 ],
 "metadata": {
  "kernelspec": {
   "display_name": "base",
   "language": "python",
   "name": "python3"
  },
  "language_info": {
   "codemirror_mode": {
    "name": "ipython",
    "version": 3
   },
   "file_extension": ".py",
   "mimetype": "text/x-python",
   "name": "python",
   "nbconvert_exporter": "python",
   "pygments_lexer": "ipython3",
   "version": "3.10.12"
  }
 },
 "nbformat": 4,
 "nbformat_minor": 2
}

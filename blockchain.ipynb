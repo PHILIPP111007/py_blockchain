{
 "cells": [
  {
   "cell_type": "code",
   "execution_count": 1,
   "metadata": {},
   "outputs": [],
   "source": [
    "from abc import ABC, abstractmethod\n",
    "import time\n",
    "import hashlib\n",
    "\n",
    "from pprint import pprint"
   ]
  },
  {
   "cell_type": "markdown",
   "metadata": {},
   "source": [
    "### Main functions"
   ]
  },
  {
   "cell_type": "code",
   "execution_count": 2,
   "metadata": {},
   "outputs": [],
   "source": [
    "def get_current_time() -> float:\n",
    "    return time.time()\n",
    "\n",
    "\n",
    "def compute_hash(string: str) -> str:\n",
    "    b: bytes = string.encode()\n",
    "    return hashlib.sha256(b).hexdigest()\n",
    "\n",
    "\n",
    "def get_merkle_hash(arr: list[str]) -> str:\n",
    "    if arr == []:\n",
    "        return \"\"\n",
    "\n",
    "    result_arr = arr.copy()\n",
    "\n",
    "    for i in range(len(arr)):\n",
    "        result_arr[i] = compute_hash(result_arr[i])\n",
    "\n",
    "    while len(result_arr) != 1:\n",
    "        new_arr = []\n",
    "        for i in range(0, len(result_arr), 2):\n",
    "            if i == len(result_arr) - 1:\n",
    "                h = compute_hash(result_arr[i])\n",
    "            else:\n",
    "                h = compute_hash(result_arr[i] + result_arr[i + 1])\n",
    "            new_arr.append(h)\n",
    "        result_arr = new_arr.copy()\n",
    "    \n",
    "    return result_arr[0]"
   ]
  },
  {
   "cell_type": "markdown",
   "metadata": {},
   "source": [
    "### Account, Transaction and Block"
   ]
  },
  {
   "cell_type": "code",
   "execution_count": 3,
   "metadata": {},
   "outputs": [],
   "source": [
    "class Account:\n",
    "    def __init__(self, mnemonic: str = \"\", private_key: str = \"\", public_key: str = \"\"):\n",
    "        if public_key:\n",
    "            self.public_key = public_key\n",
    "        else:\n",
    "            self.public_key = compute_hash(f\"{mnemonic}{private_key}\")\n",
    "\n",
    "    def __str__(self) -> str:\n",
    "        return str(self.public_key)\n",
    "\n",
    "\n",
    "class Transaction:\n",
    "    \"\"\"PHC - phils coin\"\"\"\n",
    "\n",
    "    def __init__(\n",
    "        self,\n",
    "        sender_private_key: str,\n",
    "        sender_public_key: str,\n",
    "        reciever_public_key: str,\n",
    "        PHC: float,\n",
    "        sender_PHC_total: float,\n",
    "        reciever_PHC_total: float,\n",
    "    ):\n",
    "        self.sender = Account(public_key=sender_public_key)\n",
    "        self.reciever = Account(public_key=reciever_public_key)\n",
    "        self.PHC = PHC\n",
    "        self.sender_PHC_total = sender_PHC_total\n",
    "        self.reciever_PHC_total = reciever_PHC_total\n",
    "        self.timestamp = get_current_time()\n",
    "\n",
    "        s = sender_public_key + reciever_public_key + str(self.timestamp) + sender_private_key\n",
    "        signed_hash = compute_hash(s)\n",
    "        self.hash = signed_hash\n",
    "\n",
    "    def __str__(self) -> str:\n",
    "        return str(self.hash)\n",
    "\n",
    "    def is_valid(self, sender_private_key: str) -> bool:\n",
    "        s = self.sender.public_key + self.reciever.public_key + str(self.timestamp) + sender_private_key\n",
    "        signed_hash = compute_hash(s)\n",
    "        if self.hash == signed_hash:\n",
    "            return True\n",
    "        return False\n",
    "\n",
    "\n",
    "class Block:\n",
    "    def __init__(self, index: int, previous_hash: str):\n",
    "        self.index = index\n",
    "        self.previous_hash = previous_hash\n",
    "        self.transactions: list[Transaction] = []\n",
    "        self.accounts: list[Account] = []\n",
    "        self.timestamp = get_current_time()\n",
    "\n",
    "    def __str__(self) -> str:\n",
    "        return str(self.get_hash())\n",
    "\n",
    "    def set_hash(self):\n",
    "        self.hash = self.get_hash()\n",
    "\n",
    "    def get_hash(self) -> str:\n",
    "        transactions_hash = get_merkle_hash([t.hash for t in self.transactions])\n",
    "        s = str(self.index) + self.previous_hash + transactions_hash + str(self.timestamp)\n",
    "        return compute_hash(s)"
   ]
  },
  {
   "cell_type": "markdown",
   "metadata": {},
   "source": [
    "### BaseABC and Base\n",
    "\n",
    "Lets create an abstract class (BaseABC) that will share methods between children.\n",
    "\n",
    "Lets create Base class that will contain the chain of blocks."
   ]
  },
  {
   "cell_type": "code",
   "execution_count": 4,
   "metadata": {},
   "outputs": [],
   "source": [
    "class BaseABC(ABC):\n",
    "    @property\n",
    "    @abstractmethod\n",
    "    def current_block(self) -> Block:\n",
    "        pass\n",
    "\n",
    "    @property\n",
    "    @abstractmethod\n",
    "    def blocks_count(self) -> int:\n",
    "        pass\n",
    "\n",
    "    @abstractmethod\n",
    "    def _create_block(self, initial: bool) -> Block:\n",
    "        pass\n",
    "\n",
    "    @abstractmethod\n",
    "    def _append_block(self, block: Block):\n",
    "        pass\n",
    "\n",
    "    @abstractmethod\n",
    "    def login(self, mnemonic: str, private_key: str) -> Account | None:\n",
    "        pass\n",
    "\n",
    "    @abstractmethod\n",
    "    def get_account_by_public_key(self, public_key: str) -> Account | None:\n",
    "        pass\n",
    "\n",
    "    @abstractmethod\n",
    "    def get_user_PHC_total(self, public_key: str) -> float:\n",
    "        pass\n",
    "\n",
    "\n",
    "class Base(BaseABC):\n",
    "    MAX_TRANSACTIONS_SIZE_IN_BLOCK = 16\n",
    "\n",
    "    def __init__(self, name: str) -> None:\n",
    "        self.name = name\n",
    "        self.chain: list[Block] = []\n",
    "        self._append_block(self._create_block(initial=True))\n",
    "\n",
    "    def __str__(self) -> str:\n",
    "        return str(self.name)"
   ]
  },
  {
   "cell_type": "markdown",
   "metadata": {},
   "source": [
    "### Managers\n",
    "\n",
    "Lets create blockchain managers"
   ]
  },
  {
   "cell_type": "code",
   "execution_count": 5,
   "metadata": {},
   "outputs": [],
   "source": [
    "class AccountManager(Base):\n",
    "    def get_account_by_public_key(self, public_key: str) -> Account | None:\n",
    "        for block in self.chain:\n",
    "            for account in block.accounts:\n",
    "                if public_key == account.public_key:\n",
    "                    return account\n",
    "        return\n",
    "\n",
    "    def get_user_PHC_total(self, public_key: str) -> float:\n",
    "        for block in self.chain[::-1]:\n",
    "            for transaction in block.transactions[::-1]:\n",
    "                if transaction.sender.public_key == public_key:\n",
    "                    return transaction.sender_PHC_total\n",
    "                elif transaction.reciever.public_key == public_key:\n",
    "                    return transaction.reciever_PHC_total\n",
    "        return 0.0\n",
    "\n",
    "    def login(self, mnemonic: str, private_key: str) -> Account | None:\n",
    "        public_key = Account(mnemonic=mnemonic, private_key=private_key).public_key\n",
    "        if (account := self.get_account_by_public_key(public_key=public_key)) is not None:\n",
    "            return account\n",
    "        return\n",
    "\n",
    "    def add_account(self, mnemonic: str, private_key: str) -> dict[str, str]:\n",
    "        account = Account(mnemonic=mnemonic, private_key=private_key)\n",
    "        if self.get_account_by_public_key(public_key=account.public_key):\n",
    "            return {\n",
    "                \"error\": \"Please use another mnemonic. You have a hash collision.\"\n",
    "            }\n",
    "        self.current_block.accounts.append(account)\n",
    "        return {\n",
    "            \"success\": \"Account has been created.\",\n",
    "            \"public_key\": account.public_key,\n",
    "        }\n",
    "\n",
    "\n",
    "class BlockManager(Base):\n",
    "    @property\n",
    "    def current_block(self) -> Block:\n",
    "        return self.chain[-1]\n",
    "\n",
    "    @property\n",
    "    def blocks_count(self) -> int:\n",
    "        return len(self.chain)\n",
    "\n",
    "    def _create_block(self, initial: bool) -> Block:\n",
    "        if initial:\n",
    "            index = 0\n",
    "            previous_hash = \"\"\n",
    "        else:\n",
    "            index = self.current_block.index + 1\n",
    "            self.current_block.set_hash()\n",
    "            previous_hash = self.current_block.hash\n",
    "\n",
    "        return Block(\n",
    "            index=index,\n",
    "            previous_hash=previous_hash,\n",
    "        )\n",
    "\n",
    "\n",
    "class TransactionManager(Base):\n",
    "    def _append_transaction(self, transaction: Transaction):\n",
    "        self.current_block.transactions.append(transaction)\n",
    "\n",
    "    def add_transaction(\n",
    "        self,\n",
    "        sender_mnemonic: str,\n",
    "        sender_private_key: str,\n",
    "        reciever_public_key: str,\n",
    "        PHC: float,\n",
    "    ) -> Transaction | dict[str, str]:\n",
    "        PHC = float(PHC)\n",
    "\n",
    "        sender = self.login(mnemonic=sender_mnemonic, private_key=sender_private_key)\n",
    "        if sender is None:\n",
    "            return {\"error\": \"Can not login.\"}\n",
    "\n",
    "        reciever = self.get_account_by_public_key(public_key=reciever_public_key)\n",
    "        if reciever is None:\n",
    "            return {\"error\": \"Can not find reciever account.\"}\n",
    "\n",
    "        sender_PHC_total = self.get_user_PHC_total(public_key=sender.public_key)\n",
    "        reciever_PHC_total = self.get_user_PHC_total(public_key=reciever.public_key)\n",
    "\n",
    "        if sender_PHC_total - PHC < 0:\n",
    "            return {\"error\": \"You do not have enough PHC.\"}\n",
    "\n",
    "        transaction = Transaction(\n",
    "            sender_private_key=sender_private_key,\n",
    "            sender_public_key=sender.public_key,\n",
    "            reciever_public_key=reciever.public_key,\n",
    "            PHC=PHC,\n",
    "            sender_PHC_total=sender_PHC_total - PHC,\n",
    "            reciever_PHC_total=reciever_PHC_total + PHC,\n",
    "        )\n",
    "\n",
    "        self._append_transaction(transaction=transaction)\n",
    "        if (\n",
    "            len(self.current_block.transactions)\n",
    "            >= self.MAX_TRANSACTIONS_SIZE_IN_BLOCK\n",
    "        ):\n",
    "            block = self._create_block(initial=False)\n",
    "            self._append_block(block=block)\n",
    "        return transaction\n",
    "\n",
    "\n",
    "class ChainManager(Base):\n",
    "    def _append_block(self, block: Block):\n",
    "        self.chain.append(block)\n",
    "\n",
    "    def is_valid(self) -> tuple[bool, int]:\n",
    "        for i in range(self.blocks_count - 1):\n",
    "            if self.chain[i].hash != self.chain[i].get_hash():\n",
    "                return False, i\n",
    "\n",
    "            if i > 0:\n",
    "                if self.chain[i - 1].hash != self.chain[i].previous_hash:\n",
    "                    return False, i\n",
    "        return True, -1"
   ]
  },
  {
   "cell_type": "code",
   "execution_count": 6,
   "metadata": {},
   "outputs": [],
   "source": [
    "class Blockchain(AccountManager, BlockManager, TransactionManager, ChainManager):\n",
    "    def __init__(self, name: str, **kwargs):\n",
    "        super().__init__(name=name, **kwargs)"
   ]
  },
  {
   "cell_type": "markdown",
   "metadata": {},
   "source": [
    "### Initialize blockchain"
   ]
  },
  {
   "cell_type": "code",
   "execution_count": 7,
   "metadata": {},
   "outputs": [
    {
     "name": "stdout",
     "output_type": "stream",
     "text": [
      "Phils_blockchain\n",
      "\n",
      "{'chain': [<__main__.Block object at 0x10f4fba00>], 'name': 'Phils_blockchain'}\n",
      "\n",
      "{'accounts': [],\n",
      " 'index': 0,\n",
      " 'previous_hash': '',\n",
      " 'timestamp': 1707251644.011664,\n",
      " 'transactions': []}\n"
     ]
    }
   ],
   "source": [
    "sender_mnemonic = \"mnemonic\"\n",
    "sender_private_key = \"private_key\"\n",
    "reciever_mnemonic = \"mnemonic1\"\n",
    "reciever_private_key = \"private_key\"\n",
    "\n",
    "blockchain = Blockchain(name=\"Phils_blockchain\")\n",
    "print(blockchain)\n",
    "print()\n",
    "\n",
    "pprint(vars(blockchain))\n",
    "print()\n",
    "\n",
    "pprint(vars(blockchain.chain[0]))"
   ]
  },
  {
   "cell_type": "markdown",
   "metadata": {},
   "source": [
    "### Create user"
   ]
  },
  {
   "cell_type": "code",
   "execution_count": 8,
   "metadata": {},
   "outputs": [
    {
     "name": "stdout",
     "output_type": "stream",
     "text": [
      "sender = {'success': 'Account has been created.', 'public_key': '938b4cb077d33740fd4f7ec42a163c9746aa54ae80a0bf0322cb653cd8f263ec'}\n",
      "\n",
      "sender_PHC_total = 0.0\n",
      "\n",
      "sender_error = {'error': 'Please use another mnemonic. You have a hash collision.'}\n",
      "\n",
      "reciever = {'success': 'Account has been created.', 'public_key': 'e97d2f7b6da84a84692338a2ee49533c32bd861d2f3255b9d5eb7119abed2cee'}\n"
     ]
    }
   ],
   "source": [
    "sender = blockchain.add_account(mnemonic=sender_mnemonic, private_key=sender_private_key)\n",
    "print(f\"{sender = }\\n\")\n",
    "\n",
    "# Get users total coins\n",
    "sender_public_key = sender.get(\"public_key\")\n",
    "sender_PHC_total = blockchain.get_user_PHC_total(public_key=sender_public_key)\n",
    "print(f\"{sender_PHC_total = }\\n\")\n",
    "\n",
    "# Try to create an account that has the same mnemonic and private_key like user 1\n",
    "sender_error = blockchain.add_account(\n",
    "    mnemonic=sender_mnemonic, private_key=sender_private_key\n",
    ")\n",
    "print(f\"{sender_error = }\\n\")\n",
    "\n",
    "# Create second account\n",
    "reciever = blockchain.add_account(\n",
    "    mnemonic=reciever_mnemonic, private_key=reciever_private_key\n",
    ")\n",
    "print(f\"{reciever = }\")"
   ]
  },
  {
   "cell_type": "markdown",
   "metadata": {},
   "source": [
    "### Create our first transaction"
   ]
  },
  {
   "cell_type": "code",
   "execution_count": 26,
   "metadata": {},
   "outputs": [
    {
     "name": "stdout",
     "output_type": "stream",
     "text": [
      "1af75cc345abd6a3fbe252d89abadda3d5d359d132d7b97741ddc21d22fb60e9\n",
      "\n",
      "{'PHC': 0.0,\n",
      " 'hash': '1af75cc345abd6a3fbe252d89abadda3d5d359d132d7b97741ddc21d22fb60e9',\n",
      " 'reciever': <__main__.Account object at 0x10f4b56c0>,\n",
      " 'reciever_PHC_total': 0.0,\n",
      " 'sender': <__main__.Account object at 0x10f4b7a60>,\n",
      " 'sender_PHC_total': 0.0,\n",
      " 'timestamp': 1707251844.11622}\n",
      "\n",
      "True\n"
     ]
    }
   ],
   "source": [
    "reciever_public_key = reciever.get(\"public_key\")\n",
    "\n",
    "transaction = blockchain.add_transaction(\n",
    "    sender_mnemonic=sender_mnemonic,\n",
    "    sender_private_key=sender_private_key,\n",
    "    reciever_public_key=reciever_public_key,\n",
    "    PHC=0,\n",
    ")\n",
    "\n",
    "print(transaction)\n",
    "print()\n",
    "\n",
    "pprint(transaction.__dict__)\n",
    "print()\n",
    "\n",
    "# See that our transaction is valid\n",
    "print(transaction.is_valid(sender_private_key=sender_private_key))"
   ]
  },
  {
   "cell_type": "code",
   "execution_count": 10,
   "metadata": {},
   "outputs": [
    {
     "name": "stdout",
     "output_type": "stream",
     "text": [
      "{'accounts': [<__main__.Account object at 0x10f4fa410>,\n",
      "              <__main__.Account object at 0x10f492620>],\n",
      " 'hash': '434c0494dee199a66fdd14386371097c75fc308b14d24c3e9843bf3dde99e775',\n",
      " 'index': 0,\n",
      " 'previous_hash': '',\n",
      " 'timestamp': 1707251644.011664,\n",
      " 'transactions': [<__main__.Transaction object at 0x10f4fb0a0>,\n",
      "                  <__main__.Transaction object at 0x10f4f8670>,\n",
      "                  <__main__.Transaction object at 0x10f4fab90>,\n",
      "                  <__main__.Transaction object at 0x10f4fb970>,\n",
      "                  <__main__.Transaction object at 0x10f4fae30>,\n",
      "                  <__main__.Transaction object at 0x10f4fa530>,\n",
      "                  <__main__.Transaction object at 0x10f4face0>,\n",
      "                  <__main__.Transaction object at 0x10f4fa9b0>,\n",
      "                  <__main__.Transaction object at 0x10f4f80d0>,\n",
      "                  <__main__.Transaction object at 0x10f4fae90>,\n",
      "                  <__main__.Transaction object at 0x10f4f8550>,\n",
      "                  <__main__.Transaction object at 0x10f4fb370>,\n",
      "                  <__main__.Transaction object at 0x10f4f81c0>,\n",
      "                  <__main__.Transaction object at 0x10f4fa260>,\n",
      "                  <__main__.Transaction object at 0x10f4f8100>,\n",
      "                  <__main__.Transaction object at 0x10f4f8880>]}\n",
      "\n",
      "(True, -1)\n"
     ]
    }
   ],
   "source": [
    "for _ in range(100):\n",
    "    blockchain.add_transaction(\n",
    "        sender_mnemonic=sender_mnemonic,\n",
    "        sender_private_key=sender_private_key,\n",
    "        reciever_public_key=reciever_public_key,\n",
    "        PHC=0,\n",
    "    )\n",
    "\n",
    "pprint(blockchain.chain[0].__dict__)\n",
    "print()\n",
    "\n",
    "print(blockchain.is_valid())"
   ]
  },
  {
   "cell_type": "markdown",
   "metadata": {},
   "source": [
    "### Lets make changes in the chain"
   ]
  },
  {
   "cell_type": "code",
   "execution_count": 11,
   "metadata": {},
   "outputs": [
    {
     "name": "stdout",
     "output_type": "stream",
     "text": [
      "(False, 3)\n"
     ]
    }
   ],
   "source": [
    "error_block = blockchain.chain[-2]\n",
    "blockchain.chain[3] = error_block\n",
    "\n",
    "print(blockchain.is_valid())"
   ]
  }
 ],
 "metadata": {
  "kernelspec": {
   "display_name": "base",
   "language": "python",
   "name": "python3"
  },
  "language_info": {
   "codemirror_mode": {
    "name": "ipython",
    "version": 3
   },
   "file_extension": ".py",
   "mimetype": "text/x-python",
   "name": "python",
   "nbconvert_exporter": "python",
   "pygments_lexer": "ipython3",
   "version": "3.10.13"
  }
 },
 "nbformat": 4,
 "nbformat_minor": 2
}
